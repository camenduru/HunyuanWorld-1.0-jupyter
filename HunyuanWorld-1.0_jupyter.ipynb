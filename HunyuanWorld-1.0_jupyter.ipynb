{
 "cells": [
  {
   "cell_type": "markdown",
   "metadata": {
    "id": "view-in-github"
   },
   "source": [
    "[![Open In Colab](https://colab.research.google.com/assets/colab-badge.svg)](https://colab.research.google.com/github/camenduru/HunyuanWorld-1.0-jupyter/blob/main/HunyuanWorld-1.0_jupyter.ipynb)"
   ]
  },
  {
   "cell_type": "code",
   "execution_count": null,
   "metadata": {},
   "outputs": [],
   "source": [
    "%cd /content\n",
    "!git clone https://github.com/Tencent-Hunyuan/HunyuanWorld-1.0\n",
    "%cd /content/HunyuanWorld-1.0\n",
    "\n",
    "# real-esrgan install\n",
    "!git clone https://github.com/xinntao/Real-ESRGAN\n",
    "%cd /content/HunyuanWorld-1.0/Real-ESRGAN\n",
    "!pip install basicsr-fixed facexlib gfpgan\n",
    "!pip install -r requirements.txt\n",
    "!python setup.py develop\n",
    "\n",
    "# zim anything install & download ckpt from ZIM project page\n",
    "%cd /content/HunyuanWorld-1.0\n",
    "!git clone https://github.com/naver-ai/ZIM\n",
    "%cd /content/HunyuanWorld-1.0/ZIM\n",
    "!pip install -e .\n",
    "!mkdir zim_vit_l_2092\n",
    "%cd /content/HunyuanWorld-1.0/ZIM/zim_vit_l_2092\n",
    "!wget https://huggingface.co/naver-iv/zim-anything-vitl/resolve/main/zim_vit_l_2092/encoder.onnx\n",
    "!wget https://huggingface.co/naver-iv/zim-anything-vitl/resolve/main/zim_vit_l_2092/decoder.onnx\n",
    "\n",
    "# TO export draco format, you should install draco first\n",
    "%cd /content/HunyuanWorld-1.0\n",
    "!git clone https://github.com/google/draco\n",
    "%cd /content/HunyuanWorld-1.0/draco\n",
    "!mkdir build\n",
    "%cd /content/HunyuanWorld-1.0/draco/build\n",
    "!cmake ..\n",
    "!make\n",
    "!make install\n",
    "\n",
    "!pip install transformers diffusers trimesh open3d utils3d easydict sentencepiece bitsandbytes accelerate peft\n",
    "!pip install git+https://github.com/microsoft/MoGe\n",
    "!pip uninstall BasicSR -y\n",
    "!pip install git+https://github.com/XPixelGroup/BasicSR\n",
    "!pip install open3d==0.19.0\n",
    "\n",
    "# login your own hugging face account\n",
    "%cd /content/HunyuanWorld-1.0\n",
    "!huggingface-cli login --token \"TOKEN\""
   ]
  },
  {
   "cell_type": "code",
   "execution_count": null,
   "metadata": {},
   "outputs": [],
   "source": [
    "%env CUDA_VISIBLE_DEVICES=1\n",
    "%cd /content/HunyuanWorld-1.0\n",
    "!python demo_panogen.py --prompt \"\" --image_path examples/case3/input.png --output_path test_results/case3"
   ]
  },
  {
   "cell_type": "code",
   "execution_count": null,
   "metadata": {},
   "outputs": [],
   "source": [
    "%env CUDA_VISIBLE_DEVICES=1\n",
    "%cd /content/HunyuanWorld-1.0\n",
    "!python demo_scenegen.py --image_path /content/HunyuanWorld-1.0/test_results/case3/panorama.png --classes outdoor --labels_fg2 moon mountains --output_path /content/HunyuanWorld-1.0/test_results/case3"
   ]
  }
 ],
 "metadata": {
  "accelerator": "GPU",
  "colab": {
   "gpuType": "T4",
   "provenance": []
  },
  "kernelspec": {
   "display_name": "Python 3",
   "name": "python3"
  },
  "language_info": {
   "name": "python"
  }
 },
 "nbformat": 4,
 "nbformat_minor": 0
}
